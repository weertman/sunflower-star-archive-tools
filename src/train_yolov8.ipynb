{
 "cells": [
  {
   "cell_type": "code",
   "execution_count": 121,
   "metadata": {
    "collapsed": true,
    "ExecuteTime": {
     "end_time": "2024-04-02T18:06:53.041727900Z",
     "start_time": "2024-04-02T18:06:53.031727100Z"
    }
   },
   "outputs": [
    {
     "data": {
      "text/plain": "True"
     },
     "execution_count": 121,
     "metadata": {},
     "output_type": "execute_result"
    }
   ],
   "source": [
    "import torch\n",
    "torch.cuda.is_available()"
   ]
  },
  {
   "cell_type": "code",
   "execution_count": 122,
   "outputs": [
    {
     "data": {
      "text/plain": "'0,1'"
     },
     "execution_count": 122,
     "metadata": {},
     "output_type": "execute_result"
    }
   ],
   "source": [
    "## get devices 0 and 1\n",
    "devices = torch.cuda.device_count()\n",
    "if devices > 1:\n",
    "    device = '0,1'\n",
    "else:\n",
    "    device = '0'\n",
    "device"
   ],
   "metadata": {
    "collapsed": false,
    "ExecuteTime": {
     "end_time": "2024-04-02T18:06:53.049725800Z",
     "start_time": "2024-04-02T18:06:53.039725900Z"
    }
   }
  },
  {
   "cell_type": "code",
   "execution_count": 123,
   "outputs": [
    {
     "name": "stderr",
     "output_type": "stream",
     "text": [
      "Ultralytics YOLOv8.0.196  Python-3.8.18 torch-2.1.2+cu118 CUDA:0 (NVIDIA RTX A6000, 49140MiB)\n",
      "Setup complete  (64 CPUs, 1023.6 GB RAM, 3663.9/16764.0 GB disk)\n"
     ]
    }
   ],
   "source": [
    "from IPython import display\n",
    "display.clear_output()\n",
    "\n",
    "import ultralytics\n",
    "ultralytics.checks()"
   ],
   "metadata": {
    "collapsed": false
   }
  },
  {
   "cell_type": "code",
   "execution_count": 124,
   "outputs": [],
   "source": [
    "from ultralytics import YOLO\n",
    "from IPython.display import display, Image"
   ],
   "metadata": {
    "collapsed": false,
    "ExecuteTime": {
     "end_time": "2024-04-02T18:06:53.084725700Z",
     "start_time": "2024-04-02T18:06:53.062725400Z"
    }
   }
  },
  {
   "cell_type": "code",
   "execution_count": 125,
   "outputs": [
    {
     "name": "stdout",
     "output_type": "stream",
     "text": [
      "E:\\SunflowerStarArchive\\sunflower-star-archive-tools\\models\\yolov8\\datasets\n",
      "E:\\SunflowerStarArchive\\sunflower-star-archive-tools\\models\\yolov8\n"
     ]
    }
   ],
   "source": [
    "import os\n",
    "cwd = os.getcwd()\n",
    "print(cwd)\n",
    "if os.path.basename(cwd) == 'datasets':\n",
    "    cwd = '..'\n",
    "    os.chdir(cwd)\n",
    "    cwd = os.getcwd()\n",
    "elif os.path.basename(cwd) != 'yolov8':\n",
    "    cwd = '../models/yolov8'\n",
    "    os.chdir(cwd)\n",
    "    cwd = os.getcwd()\n",
    "else:\n",
    "    pass\n",
    "print(cwd)"
   ],
   "metadata": {
    "collapsed": false,
    "ExecuteTime": {
     "end_time": "2024-04-02T18:06:53.084725700Z",
     "start_time": "2024-04-02T18:06:53.068728300Z"
    }
   }
  },
  {
   "cell_type": "code",
   "execution_count": 126,
   "outputs": [],
   "source": [
    "model_path = os.path.join(cwd, 'yolov8x-seg.pt')\n",
    "model = YOLO(model_path)"
   ],
   "metadata": {
    "collapsed": false,
    "ExecuteTime": {
     "end_time": "2024-04-02T18:06:53.260728300Z",
     "start_time": "2024-04-02T18:06:53.074727300Z"
    }
   }
  },
  {
   "cell_type": "code",
   "execution_count": 127,
   "outputs": [],
   "source": [
    "from roboflow import Roboflow"
   ],
   "metadata": {
    "collapsed": false,
    "ExecuteTime": {
     "end_time": "2024-04-02T18:06:53.266726400Z",
     "start_time": "2024-04-02T18:06:53.261771800Z"
    }
   }
  },
  {
   "cell_type": "code",
   "execution_count": 128,
   "outputs": [
    {
     "name": "stdout",
     "output_type": "stream",
     "text": [
      "Dataset code: sunflowerstarseg, Dataset workspace: sunflowerstarlab\n"
     ]
    }
   ],
   "source": [
    "datasets = ['sunflowerstarseg', 'starseg']\n",
    "dataset_code = datasets[0]\n",
    "dataset_workspace = {\n",
    "    'sunflowerstarseg': 'sunflowerstarlab',\n",
    "    'starseg': 'willem-weertman'\n",
    "}\n",
    "dataset_workspace = dataset_workspace[dataset_code]\n",
    "print(f'Dataset code: {dataset_code}, Dataset workspace: {dataset_workspace}')\n"
   ],
   "metadata": {
    "collapsed": false,
    "ExecuteTime": {
     "end_time": "2024-04-02T18:06:53.283728200Z",
     "start_time": "2024-04-02T18:06:53.267728900Z"
    }
   }
  },
  {
   "cell_type": "code",
   "execution_count": 129,
   "outputs": [
    {
     "name": "stdout",
     "output_type": "stream",
     "text": [
      "E:\\SunflowerStarArchive\\sunflower-star-archive-tools\\models\\yolov8\\datasets\\sunflowerstarseg-4\n"
     ]
    }
   ],
   "source": [
    "version = 4\n",
    "datasets_root = os.path.join(cwd, 'datasets')\n",
    "if not os.path.exists(datasets_root):\n",
    "    os.makedirs(datasets_root)\n",
    "dataset_location = os.path.join(datasets_root, f'{dataset_code}-{version}')\n",
    "if not os.path.exists(dataset_location):\n",
    "    os.makedirs(dataset_location)\n",
    "print(dataset_location)"
   ],
   "metadata": {
    "collapsed": false,
    "ExecuteTime": {
     "end_time": "2024-04-02T18:06:53.283728200Z",
     "start_time": "2024-04-02T18:06:53.274726500Z"
    }
   }
  },
  {
   "cell_type": "code",
   "execution_count": 130,
   "outputs": [
    {
     "name": "stdout",
     "output_type": "stream",
     "text": [
      "E:\\SunflowerStarArchive\\sunflower-star-archive-tools\\models\\yolov8\\datasets\n"
     ]
    }
   ],
   "source": [
    "%cd {datasets_root}"
   ],
   "metadata": {
    "collapsed": false,
    "ExecuteTime": {
     "end_time": "2024-04-02T18:06:53.371727600Z",
     "start_time": "2024-04-02T18:06:53.280727700Z"
    }
   }
  },
  {
   "cell_type": "code",
   "execution_count": 131,
   "outputs": [
    {
     "name": "stdout",
     "output_type": "stream",
     "text": [
      "Dataset already downloaded\n"
     ]
    }
   ],
   "source": [
    "# Check if the dataset is already downloaded\n",
    "if not os.listdir(dataset_location) or len(os.listdir(dataset_location)) == 0:  # If directory is empty\n",
    "    if dataset_workspace == 'sunflowerstarlab':\n",
    "        rf = Roboflow(api_key=\"3DMRGtyRTVJorWA7u61H\")\n",
    "    else:\n",
    "        rf = Roboflow(api_key=\"3DMRGtyRTVJorWA7u61H\")\n",
    "\n",
    "    project = rf.workspace(dataset_workspace).project(dataset_code)\n",
    "    dataset_version = project.version(version)\n",
    "    dataset = dataset_version.download(\"yolov8\")\n",
    "else:\n",
    "    print('Dataset already downloaded')"
   ],
   "metadata": {
    "collapsed": false,
    "ExecuteTime": {
     "end_time": "2024-04-02T18:06:53.371727600Z",
     "start_time": "2024-04-02T18:06:53.290728100Z"
    }
   }
  },
  {
   "cell_type": "code",
   "execution_count": 132,
   "outputs": [
    {
     "data": {
      "text/plain": "6"
     },
     "execution_count": 132,
     "metadata": {},
     "output_type": "execute_result"
    }
   ],
   "source": [
    "## check number of files in dataset_location\n",
    "len(os.listdir(dataset_location))"
   ],
   "metadata": {
    "collapsed": false,
    "ExecuteTime": {
     "end_time": "2024-04-02T18:06:53.371727600Z",
     "start_time": "2024-04-02T18:06:53.297727600Z"
    }
   }
  },
  {
   "cell_type": "code",
   "execution_count": 133,
   "outputs": [
    {
     "data": {
      "text/plain": "True"
     },
     "execution_count": 133,
     "metadata": {},
     "output_type": "execute_result"
    }
   ],
   "source": [
    "path_yaml = f'{dataset_location}/data.yaml'\n",
    "os.path.exists(path_yaml)"
   ],
   "metadata": {
    "collapsed": false,
    "ExecuteTime": {
     "end_time": "2024-04-02T18:06:53.372728200Z",
     "start_time": "2024-04-02T18:06:53.304728100Z"
    }
   }
  },
  {
   "cell_type": "code",
   "execution_count": 134,
   "outputs": [
    {
     "name": "stdout",
     "output_type": "stream",
     "text": [
      "train: ../train/images\n",
      "val: ../valid/images\n",
      "test: ../test/images\n",
      "\n",
      "nc: 2\n",
      "names: ['Other_species', 'Pycnopodia_helianthoides']\n",
      "\n",
      "roboflow:\n",
      "  workspace: sunflowerstarlab\n",
      "  project: sunflowerstarseg\n",
      "  version: 4\n",
      "  license: CC BY 4.0\n",
      "  url: https://universe.roboflow.com/sunflowerstarlab/sunflowerstarseg/dataset/4\n"
     ]
    }
   ],
   "source": [
    "## open yaml contents and print them\n",
    "with open(path_yaml, 'r') as file:\n",
    "    print(file.read())"
   ],
   "metadata": {
    "collapsed": false,
    "ExecuteTime": {
     "end_time": "2024-04-02T18:06:53.372728200Z",
     "start_time": "2024-04-02T18:06:53.312727600Z"
    }
   }
  },
  {
   "cell_type": "code",
   "execution_count": 135,
   "outputs": [],
   "source": [
    "## default dataset paths are..\n",
    "## test: ../test/images\n",
    "## train: StarSeg-24/train/images\n",
    "## val: StarSeg-24/valid/images\n",
    "## this is a bug, we need to change train and val to have a similar format as test\n",
    "## they need to be overwritten like..\n",
    "## train: ../train/images\n",
    "## val: ../valid/images\n",
    "\n",
    "## overwrite yaml\n",
    "with open(path_yaml, 'r') as file:\n",
    "    filedata = file.read()\n",
    "    filedata = filedata.replace('test: ../test/images', 'test: ../test/images')\n",
    "    filedata = filedata.replace(f'train: StarSeg-{version}/train/images', 'train: ../train/images')\n",
    "    filedata = filedata.replace(f'val: StarSeg-{version}/valid/images', 'val: ../valid/images')\n",
    "\n",
    "with open(path_yaml, 'w') as file:\n",
    "    file.write(filedata)"
   ],
   "metadata": {
    "collapsed": false,
    "ExecuteTime": {
     "end_time": "2024-04-02T18:06:53.372728200Z",
     "start_time": "2024-04-02T18:06:53.320728100Z"
    }
   }
  },
  {
   "cell_type": "code",
   "execution_count": 136,
   "outputs": [
    {
     "name": "stdout",
     "output_type": "stream",
     "text": [
      "train: ../train/images\n",
      "val: ../valid/images\n",
      "test: ../test/images\n",
      "\n",
      "nc: 2\n",
      "names: ['Other_species', 'Pycnopodia_helianthoides']\n",
      "\n",
      "roboflow:\n",
      "  workspace: sunflowerstarlab\n",
      "  project: sunflowerstarseg\n",
      "  version: 4\n",
      "  license: CC BY 4.0\n",
      "  url: https://universe.roboflow.com/sunflowerstarlab/sunflowerstarseg/dataset/4\n"
     ]
    }
   ],
   "source": [
    "## open yaml contents and print them\n",
    "with open(path_yaml, 'r') as file:\n",
    "    print(file.read())"
   ],
   "metadata": {
    "collapsed": false,
    "ExecuteTime": {
     "end_time": "2024-04-02T18:06:53.437727700Z",
     "start_time": "2024-04-02T18:06:53.325725600Z"
    }
   }
  },
  {
   "cell_type": "code",
   "execution_count": 137,
   "outputs": [
    {
     "name": "stdout",
     "output_type": "stream",
     "text": [
      "E:\\SunflowerStarArchive\\sunflower-star-archive-tools\\models\\yolov8\n"
     ]
    }
   ],
   "source": [
    "if os.getcwd() != os.path.basename(model_path):\n",
    "    os.chdir(os.path.dirname(model_path))\n",
    "    print(os.getcwd())"
   ],
   "metadata": {
    "collapsed": false,
    "ExecuteTime": {
     "end_time": "2024-04-02T18:06:53.437727700Z",
     "start_time": "2024-04-02T18:06:53.340727800Z"
    }
   }
  },
  {
   "cell_type": "code",
   "execution_count": 138,
   "outputs": [
    {
     "name": "stdout",
     "output_type": "stream",
     "text": [
      "sunflowerstarseg-4-20240402\n"
     ]
    }
   ],
   "source": [
    "import datetime\n",
    "project_date = datetime.datetime.now().strftime('%Y%m%d')\n",
    "project_name = f'{dataset_code}-{version}-{project_date}'\n",
    "print(project_name)"
   ],
   "metadata": {
    "collapsed": false,
    "ExecuteTime": {
     "end_time": "2024-04-02T18:06:53.437727700Z",
     "start_time": "2024-04-02T18:06:53.346728600Z"
    }
   }
  },
  {
   "cell_type": "code",
   "execution_count": 139,
   "outputs": [
    {
     "name": "stderr",
     "output_type": "stream",
     "text": [
      "New https://pypi.org/project/ultralytics/8.1.42 available  Update with 'pip install -U ultralytics'\n",
      "Ultralytics YOLOv8.0.196  Python-3.8.18 torch-2.1.2+cu118 CUDA:0 (NVIDIA RTX A6000, 49140MiB)\n",
      "                                                            CUDA:1 (NVIDIA RTX A6000, 49140MiB)\n",
      "\u001B[34m\u001B[1mengine\\trainer: \u001B[0mtask=segment, mode=train, model=E:\\SunflowerStarArchive\\sunflower-star-archive-tools\\models\\yolov8\\yolov8x-seg.pt, data=E:\\SunflowerStarArchive\\sunflower-star-archive-tools\\models\\yolov8\\datasets\\sunflowerstarseg-4\\data.yaml, epochs=300, patience=50, batch=64, imgsz=640, save=True, save_period=-1, cache=False, device=0,1, workers=32, project=sunflowerstarseg-4-20240402, name=None, exist_ok=False, pretrained=True, optimizer=auto, verbose=True, seed=0, deterministic=True, single_cls=False, rect=False, cos_lr=False, close_mosaic=10, resume=False, amp=True, fraction=1.0, profile=False, freeze=None, overlap_mask=True, mask_ratio=4, dropout=0.0, val=True, split=val, save_json=False, save_hybrid=False, conf=None, iou=0.7, max_det=300, half=False, dnn=False, plots=True, source=None, show=False, save_txt=False, save_conf=False, save_crop=False, show_labels=True, show_conf=True, vid_stride=1, stream_buffer=False, line_width=None, visualize=False, augment=False, agnostic_nms=False, classes=None, retina_masks=False, boxes=True, format=torchscript, keras=False, optimize=False, int8=False, dynamic=False, simplify=False, opset=None, workspace=4, nms=False, lr0=0.01, lrf=0.01, momentum=0.937, weight_decay=0.0005, warmup_epochs=3.0, warmup_momentum=0.8, warmup_bias_lr=0.1, box=7.5, cls=0.5, dfl=1.5, pose=12.0, kobj=1.0, label_smoothing=0.0, nbs=64, hsv_h=0.015, hsv_s=0.7, hsv_v=0.4, degrees=0.0, translate=0.1, scale=0.5, shear=0.0, perspective=0.0, flipud=0.0, fliplr=0.5, mosaic=1.0, mixup=0.0, copy_paste=0.0, cfg=None, tracker=botsort.yaml, save_dir=sunflowerstarseg-4-20240402\\train\n",
      "Overriding model.yaml nc=80 with nc=2\n",
      "\n",
      "                   from  n    params  module                                       arguments                     \n",
      "  0                  -1  1      2320  ultralytics.nn.modules.conv.Conv             [3, 80, 3, 2]                 \n",
      "  1                  -1  1    115520  ultralytics.nn.modules.conv.Conv             [80, 160, 3, 2]               \n",
      "  2                  -1  3    436800  ultralytics.nn.modules.block.C2f             [160, 160, 3, True]           \n",
      "  3                  -1  1    461440  ultralytics.nn.modules.conv.Conv             [160, 320, 3, 2]              \n",
      "  4                  -1  6   3281920  ultralytics.nn.modules.block.C2f             [320, 320, 6, True]           \n",
      "  5                  -1  1   1844480  ultralytics.nn.modules.conv.Conv             [320, 640, 3, 2]              \n",
      "  6                  -1  6  13117440  ultralytics.nn.modules.block.C2f             [640, 640, 6, True]           \n",
      "  7                  -1  1   3687680  ultralytics.nn.modules.conv.Conv             [640, 640, 3, 2]              \n",
      "  8                  -1  3   6969600  ultralytics.nn.modules.block.C2f             [640, 640, 3, True]           \n",
      "  9                  -1  1   1025920  ultralytics.nn.modules.block.SPPF            [640, 640, 5]                 \n",
      " 10                  -1  1         0  torch.nn.modules.upsampling.Upsample         [None, 2, 'nearest']          \n",
      " 11             [-1, 6]  1         0  ultralytics.nn.modules.conv.Concat           [1]                           \n",
      " 12                  -1  3   7379200  ultralytics.nn.modules.block.C2f             [1280, 640, 3]                \n",
      " 13                  -1  1         0  torch.nn.modules.upsampling.Upsample         [None, 2, 'nearest']          \n",
      " 14             [-1, 4]  1         0  ultralytics.nn.modules.conv.Concat           [1]                           \n",
      " 15                  -1  3   1948800  ultralytics.nn.modules.block.C2f             [960, 320, 3]                 \n",
      " 16                  -1  1    922240  ultralytics.nn.modules.conv.Conv             [320, 320, 3, 2]              \n",
      " 17            [-1, 12]  1         0  ultralytics.nn.modules.conv.Concat           [1]                           \n",
      " 18                  -1  3   7174400  ultralytics.nn.modules.block.C2f             [960, 640, 3]                 \n",
      " 19                  -1  1   3687680  ultralytics.nn.modules.conv.Conv             [640, 640, 3, 2]              \n",
      " 20             [-1, 9]  1         0  ultralytics.nn.modules.conv.Concat           [1]                           \n",
      " 21                  -1  3   7379200  ultralytics.nn.modules.block.C2f             [1280, 640, 3]                \n",
      " 22        [15, 18, 21]  1  12318134  ultralytics.nn.modules.head.Segment          [2, 32, 320, [320, 640, 640]] \n",
      "YOLOv8x-seg summary: 401 layers, 71752774 parameters, 71752758 gradients, 344.5 GFLOPs\n",
      "\n",
      "Transferred 651/657 items from pretrained weights\n",
      "\u001B[34m\u001B[1mDDP:\u001B[0m debug command C:\\Users\\wlwee\\anaconda3\\envs\\StarChamber\\python.exe -m torch.distributed.run --nproc_per_node 2 --master_port 63672 C:\\Users\\wlwee\\AppData\\Roaming\\Ultralytics\\DDP\\_temp_1wkap46f1646633208608.py\n"
     ]
    }
   ],
   "source": [
    "batch_size = 64\n",
    "imgsz = 640\n",
    "epochs = 300\n",
    "workers = 32\n",
    "\n",
    "data_yaml_location = os.path.join(dataset_location, 'data.yaml')\n",
    "model.train(model=model_path, data=data_yaml_location, task='segment',\n",
    "            project=project_name,\n",
    "            epochs=epochs, batch=batch_size, imgsz=imgsz,\n",
    "            device=device, workers=workers,\n",
    "            verbose=True)"
   ],
   "metadata": {
    "collapsed": false,
    "ExecuteTime": {
     "end_time": "2024-04-03T09:30:41.563750400Z",
     "start_time": "2024-04-02T18:06:53.354728400Z"
    }
   }
  },
  {
   "cell_type": "code",
   "execution_count": 140,
   "outputs": [
    {
     "name": "stderr",
     "output_type": "stream",
     "text": [
      "Ultralytics YOLOv8.0.196  Python-3.8.18 torch-2.1.2+cu118 CUDA:0 (NVIDIA RTX A6000, 49140MiB)\n",
      "                                                            CUDA:1 (NVIDIA RTX A6000, 49140MiB)\n",
      "YOLOv8x-seg summary (fused): 295 layers, 71722582 parameters, 0 gradients, 343.7 GFLOPs\n",
      "\u001B[34m\u001B[1mval: \u001B[0mScanning E:\\SunflowerStarArchive\\sunflower-star-archive-tools\\models\\yolov8\\datasets\\SunflowerStarSeg-4\\valid\\labels.cache... 947 images, 0 backgrounds, 0 corrupt: 100%|██████████| 947/947 [00:00<?, ?it/s]\n",
      "                 Class     Images  Instances      Box(P          R      mAP50  mAP50-95)     Mask(P          R      mAP50  mAP50-95): 100%|██████████| 15/15 [00:22<00:00,  1.53s/it]\n",
      "                   all        947       1657      0.961      0.899      0.949      0.857      0.962      0.884      0.939      0.766\n",
      "         Other_species        947        974      0.949      0.855      0.925      0.851      0.959      0.849      0.926      0.791\n",
      "Pycnopodia_helianthoides        947        683      0.973      0.943      0.973      0.863      0.965      0.919      0.952      0.741\n",
      "Speed: 0.1ms preprocess, 13.2ms inference, 0.0ms loss, 1.2ms postprocess per image\n",
      "Results saved to \u001B[1msunflowerstarseg-4-20240402\\val\u001B[0m\n"
     ]
    }
   ],
   "source": [
    "# Validate the model\n",
    "metrics = model.val()  # no arguments needed, dataset and settings remembered"
   ],
   "metadata": {
    "collapsed": false,
    "ExecuteTime": {
     "end_time": "2024-04-03T09:32:59.828878600Z",
     "start_time": "2024-04-03T09:30:41.563750400Z"
    }
   }
  },
  {
   "cell_type": "code",
   "execution_count": 140,
   "outputs": [],
   "source": [],
   "metadata": {
    "collapsed": false,
    "ExecuteTime": {
     "end_time": "2024-04-03T09:32:59.844532800Z",
     "start_time": "2024-04-03T09:32:59.828878600Z"
    }
   }
  }
 ],
 "metadata": {
  "kernelspec": {
   "display_name": "Python 3",
   "language": "python",
   "name": "python3"
  },
  "language_info": {
   "codemirror_mode": {
    "name": "ipython",
    "version": 2
   },
   "file_extension": ".py",
   "mimetype": "text/x-python",
   "name": "python",
   "nbconvert_exporter": "python",
   "pygments_lexer": "ipython2",
   "version": "2.7.6"
  }
 },
 "nbformat": 4,
 "nbformat_minor": 0
}
