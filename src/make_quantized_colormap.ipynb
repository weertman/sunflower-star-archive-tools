{
 "cells": [
  {
   "cell_type": "code",
   "execution_count": 1,
   "metadata": {
    "collapsed": true,
    "ExecuteTime": {
     "end_time": "2024-05-07T18:17:52.724885400Z",
     "start_time": "2024-05-07T18:17:52.011294700Z"
    }
   },
   "outputs": [
    {
     "name": "stdout",
     "output_type": "stream",
     "text": [
      "..\\data\\misc_images\\svmp_survey_track_years.png\n",
      "True\n"
     ]
    },
    {
     "data": {
      "text/plain": "<Figure size 50x300 with 1 Axes>",
      "image/png": "[encoded data removed]"
     },
     "metadata": {},
     "output_type": "display_data"
    }
   ],
   "source": [
    "import numpy as np\n",
    "import matplotlib.pyplot as plt\n",
    "\n",
    "## make a quantized colormap\n",
    "colormap = 'viridis'\n",
    "nsteps = 21\n",
    "cmap = plt.get_cmap(colormap, nsteps)\n",
    "\n",
    "## ticks\n",
    "cbar_ticks = [0, 0.5, 1]\n",
    "cbar_ticklabels = [2000, 2010, 2020]#np.arange(2000, 2021, 20)\n",
    "## tick labels are cbar ticks reversed\n",
    "#cbar_ticks = cbar_ticks[::-1]\n",
    "\n",
    "# make a colorbar\n",
    "fig, ax = plt.subplots(figsize=(.5,3))\n",
    "\n",
    "# define the bins and normalize\n",
    "bounds = np.linspace(0, 1, nsteps)\n",
    "norm = plt.Normalize(bounds.min(), bounds.max())\n",
    "\n",
    "cb = plt.colorbar(plt.cm.ScalarMappable(norm=norm, cmap=cmap),\n",
    "                  cax=ax, orientation='vertical', ticks=cbar_ticks)\n",
    "cb.ax.set_yticklabels(cbar_ticklabels, rotation=0)\n",
    "cb.ax.tick_params(labelsize=8)\n",
    "\n",
    "## cbar heading\n",
    "\n",
    "import os\n",
    "path_fig = os.path.join('..', 'data', 'misc_images', 'svmp_survey_track_years.png')\n",
    "\n",
    "print(path_fig)\n",
    "\n",
    "plt.savefig(path_fig, dpi=300, bbox_inches='tight')\n",
    "\n",
    "print(os.path.exists(path_fig))\n",
    "\n",
    "plt.show()\n"
   ]
  },
  {
   "cell_type": "code",
   "execution_count": 2,
   "outputs": [
    {
     "data": {
      "text/plain": "'E:\\\\SunflowerStarArchive\\\\sunflower-star-archive-tools\\\\src'"
     },
     "execution_count": 2,
     "metadata": {},
     "output_type": "execute_result"
    }
   ],
   "source": [
    "os.getcwd()"
   ],
   "metadata": {
    "collapsed": false,
    "ExecuteTime": {
     "end_time": "2024-05-07T17:47:14.576805700Z",
     "start_time": "2024-05-07T17:47:14.560662600Z"
    }
   }
  },
  {
   "cell_type": "code",
   "execution_count": 2,
   "outputs": [],
   "source": [],
   "metadata": {
    "collapsed": false,
    "ExecuteTime": {
     "end_time": "2024-05-07T17:47:14.577805800Z",
     "start_time": "2024-05-07T17:47:14.576805700Z"
    }
   }
  }
 ],
 "metadata": {
  "kernelspec": {
   "display_name": "Python 3",
   "language": "python",
   "name": "python3"
  },
  "language_info": {
   "codemirror_mode": {
    "name": "ipython",
    "version": 2
   },
   "file_extension": ".py",
   "mimetype": "text/x-python",
   "name": "python",
   "nbconvert_exporter": "python",
   "pygments_lexer": "ipython2",
   "version": "2.7.6"
  }
 },
 "nbformat": 4,
 "nbformat_minor": 0
}
